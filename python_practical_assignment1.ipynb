{
  "nbformat": 4,
  "nbformat_minor": 0,
  "metadata": {
    "colab": {
      "name": "python practical assignment1.ipynb",
      "provenance": [],
      "collapsed_sections": [],
      "authorship_tag": "ABX9TyOmAwjMiQygYnUI5BOlIGbX",
      "include_colab_link": true
    },
    "kernelspec": {
      "name": "python3",
      "display_name": "Python 3"
    },
    "language_info": {
      "name": "python"
    }
  },
  "cells": [
    {
      "cell_type": "markdown",
      "metadata": {
        "id": "view-in-github",
        "colab_type": "text"
      },
      "source": [
        "<a href=\"https://colab.research.google.com/github/Sushanth172308/python_basic_practical/blob/main/python_practical_assignment1.ipynb\" target=\"_parent\"><img src=\"https://colab.research.google.com/assets/colab-badge.svg\" alt=\"Open In Colab\"/></a>"
      ]
    },
    {
      "cell_type": "code",
      "metadata": {
        "colab": {
          "base_uri": "https://localhost:8080/"
        },
        "id": "qqT5wuRfQfge",
        "outputId": "ab2dc6c0-3bb2-45eb-e27e-6a169b5b8ade"
      },
      "source": [
        "#1. Write a Python program to convert kilometers to miles?\n",
        "\n",
        "km = float(input('enter the value in  kilometers: '))\n",
        "# Convert kilometes to miles\n",
        "mil = km *0.62137\n",
        "print('%0.2f kilometers is equal to %0.2f miles' %(km,mil))\n"
      ],
      "execution_count": null,
      "outputs": [
        {
          "output_type": "stream",
          "text": [
            "enter the value in  kilometers: 5\n",
            "5.00 kilometers is equal to 3.11 miles\n"
          ],
          "name": "stdout"
        }
      ]
    },
    {
      "cell_type": "code",
      "metadata": {
        "colab": {
          "base_uri": "https://localhost:8080/"
        },
        "id": "Dd2DPe9JREhO",
        "outputId": "fc93216a-af6b-4b37-93b5-7fd63c57f990"
      },
      "source": [
        "#2.Write a Python program to convert Celsius to Fahrenheit?\n",
        " # °F= (°C * 1.8) + 32 \n",
        " # °C = (°F-32)/1.8\n",
        "\n",
        "# asking the user to input value in terms of fahrenheit.\n",
        "c =float(input('please enter temperature in Celsius:'))\n",
        "\n",
        " #convert celcius to  fahrenheit.\n",
        "f = (c*1.8) + 32\n",
        "\n",
        "print('%0.2f Celsius is equal to %0.2f fahrenheit'%(c,f))\n",
        "\n",
        "\n"
      ],
      "execution_count": null,
      "outputs": [
        {
          "output_type": "stream",
          "text": [
            "please enter temperature in Celsius:12\n",
            "12.00 Celsius is equal to 53.60 fahrenheit\n"
          ],
          "name": "stdout"
        }
      ]
    },
    {
      "cell_type": "code",
      "metadata": {
        "colab": {
          "base_uri": "https://localhost:8080/"
        },
        "id": "MOZ4VcDMdlAR",
        "outputId": "603aeda1-3599-46bb-ed32-5b264129a77a"
      },
      "source": [
        "# 3.Write a Python program to display calendar?\n",
        "\n",
        "#importing the calender module.\n",
        "import calendar\n",
        "# asking the user to enter the year and month\n",
        "year = int(input('please enter the year:'))\n",
        "month = int(input('please enter the month:'))\n",
        "print()\n",
        "print(calendar.month(year,month))"
      ],
      "execution_count": null,
      "outputs": [
        {
          "output_type": "stream",
          "text": [
            "please enter the year:2021\n",
            "please enter the month:03\n",
            "\n",
            "     March 2021\n",
            "Mo Tu We Th Fr Sa Su\n",
            " 1  2  3  4  5  6  7\n",
            " 8  9 10 11 12 13 14\n",
            "15 16 17 18 19 20 21\n",
            "22 23 24 25 26 27 28\n",
            "29 30 31\n",
            "\n"
          ],
          "name": "stdout"
        }
      ]
    },
    {
      "cell_type": "code",
      "metadata": {
        "id": "7_3xMcgXi9HL",
        "colab": {
          "base_uri": "https://localhost:8080/"
        },
        "outputId": "a5671f5f-472f-4bee-d629-e38e4859d616"
      },
      "source": [
        "# 4.Write a Python program to solve quadratic equation?\n",
        "\n",
        "# Quadratic equation is: ax2 + bx + c = 0\n",
        "\n",
        "# asking user to input the values for a b c where a != 0\n",
        "\n",
        "import cmath\n",
        "a  = int(input('please enter the first coefficient a:'))\n",
        "b  = int(input('please enter the second coefficient b:'))\n",
        "c  = int(input('please enter the third coefficient  c:'))\n",
        "print()\n",
        "\n",
        "# value of discriminant\n",
        "\n",
        "d = (b**2)-(4*a*c)\n",
        "\n",
        "sol1 = (-b-cmath.sqrt(d)) /(2*a)\n",
        "sol2 = (-b+cmath.sqrt(d)) /(2*a)\n",
        "\n",
        "print('the Soluations are {0} and {1}'.format(sol1,sol2))\n",
        "\n"
      ],
      "execution_count": null,
      "outputs": [
        {
          "output_type": "stream",
          "text": [
            "please enter the first coefficient a:1\n",
            "please enter the second coefficient b:-1\n",
            "please enter the third coefficient  c:-69\n",
            "\n",
            "the Soluations are (-7.821658488546619+0j) and (8.82165848854662+0j)\n"
          ],
          "name": "stdout"
        }
      ]
    },
    {
      "cell_type": "code",
      "metadata": {
        "id": "blzZ0-_KqtAR",
        "colab": {
          "base_uri": "https://localhost:8080/"
        },
        "outputId": "9068d654-d196-4d86-b8f4-6f5fe958c317"
      },
      "source": [
        "# 5.Write a Python program to swap two variables without temp variable?\n",
        "\n",
        "\n",
        "# Asking the user to enter two values:\n",
        "\n",
        "x = input('Enter the value of of x:')\n",
        "\n",
        "y = input('Enter the value of of y:')\n",
        "\n",
        "# to swap  x and y\n",
        "\n",
        "x , y = y, x\n",
        "\n",
        "\n",
        "print('the swap of x is:',x)\n",
        "print('the swap of y is:',y)\n"
      ],
      "execution_count": null,
      "outputs": [
        {
          "output_type": "stream",
          "text": [
            "Enter the value of of x:5\n",
            "Enter the value of of y:4\n",
            "the swap of x is: 4\n",
            "the swap of y is: 5\n"
          ],
          "name": "stdout"
        }
      ]
    }
  ]
}