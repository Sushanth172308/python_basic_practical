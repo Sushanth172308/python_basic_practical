{
  "nbformat": 4,
  "nbformat_minor": 0,
  "metadata": {
    "colab": {
      "name": "Copy of programming Assignment_3",
      "provenance": [],
      "collapsed_sections": [],
      "authorship_tag": "ABX9TyPny0ks77KtJuR3j0eMbtQt",
      "include_colab_link": true
    },
    "kernelspec": {
      "name": "python3",
      "display_name": "Python 3"
    },
    "language_info": {
      "name": "python"
    }
  },
  "cells": [
    {
      "cell_type": "markdown",
      "metadata": {
        "id": "view-in-github",
        "colab_type": "text"
      },
      "source": [
        "<a href=\"https://colab.research.google.com/github/Sushanth172308/python_basic_practical/blob/main/Copy_of_programming_Assignment_3.ipynb\" target=\"_parent\"><img src=\"https://colab.research.google.com/assets/colab-badge.svg\" alt=\"Open In Colab\"/></a>"
      ]
    },
    {
      "cell_type": "code",
      "metadata": {
        "id": "dQJxORxuq2y3"
      },
      "source": [
        "#Write a Python Program to Check if a Number is Positive, Negative or Zero?\n",
        "#Write a Python Program to Check if a Number is Odd or Even?\n",
        "#Write a Python Program to Check Leap Year?\n",
        "#Write a Python Program to Check Prime Number?\n",
        "#Write a Python Program to Print all Prime Numbers in an Interval of 1-10000?\n"
      ],
      "execution_count": null,
      "outputs": []
    },
    {
      "cell_type": "code",
      "metadata": {
        "id": "y56cIo3HovCa"
      },
      "source": [
        "#Write a Python Program to Check if a Number is Positive, Negative or Zero?\n",
        "\n",
        "# Asking user to input the value\n",
        "n = int(input('Enter the number:'))\n",
        "\n",
        " # Checking if the whether the entered number is equal to zero.\n",
        "if n == 0:\n",
        "   print('the Entered number is zero') \n",
        "\n",
        "# Checking if the whether the entered number is positive \n",
        "elif n >= 0:\n",
        "   print('The Entered number {} is positive:'.format(n))\n",
        "# Checking if the whether the entered number is negative.    \n",
        "else: \n",
        "  print('The Entered number {} is negative:'.format(n))  "
      ],
      "execution_count": null,
      "outputs": []
    },
    {
      "cell_type": "code",
      "metadata": {
        "colab": {
          "base_uri": "https://localhost:8080/"
        },
        "id": "ExUwIAvxox9d",
        "outputId": "f879c06f-dcca-4787-a966-a2fd91700297"
      },
      "source": [
        "#Write a Python Program to Check if a Number is Odd or Even?\n",
        "\n",
        "# Ask the user to Enter the number:\n",
        "n = int(input('Enter the number for Even or odd check '))\n",
        "\n",
        "# checks if the entered number is Even\n",
        "if n % 2 == 0:\n",
        "  print('The entered number is Even')\n",
        "# Checks if the entered number is negetive  \n",
        "else:\n",
        "  print('The Entered number is Odd')  "
      ],
      "execution_count": null,
      "outputs": [
        {
          "output_type": "stream",
          "text": [
            "Enter the number for Even or odd check 417\n",
            "The Entered number is Odd\n"
          ],
          "name": "stdout"
        }
      ]
    },
    {
      "cell_type": "code",
      "metadata": {
        "colab": {
          "base_uri": "https://localhost:8080/"
        },
        "id": "bWPlXxJPrKXO",
        "outputId": "d1f818c3-25a8-4f78-bcfb-baee0d6c7247"
      },
      "source": [
        "#Write a Python Program to Check Leap Year?\n",
        "\n",
        "# asking the user to input the year:\n",
        "y = int(input('Enter the year:'))\n",
        "if y % 4 ==0 and ( y % 400 ==0 or y %100 != 0 ):\n",
        "\n",
        "  print(y,'is a leap year')\n",
        "else:\n",
        "   print(y, 'is  not a leap year')    \n",
        "\n"
      ],
      "execution_count": null,
      "outputs": [
        {
          "output_type": "stream",
          "text": [
            "Enter the year:5040\n",
            "5040 is a leap year\n"
          ],
          "name": "stdout"
        }
      ]
    },
    {
      "cell_type": "code",
      "metadata": {
        "colab": {
          "base_uri": "https://localhost:8080/"
        },
        "id": "pUO6A6BurKeb",
        "outputId": "7843af81-12b2-4606-eda6-8afcca78a5b6"
      },
      "source": [
        "#Write a Python Program to Check Prime Number?\n",
        "\n",
        "p = int(input('Enter a number for prime check'))\n",
        "\n",
        "if p > 1:\n",
        "  for i in range(2,p):\n",
        "    if p % i ==0:\n",
        "      print(p,'is not a prime number')\n",
        "      break\n",
        "  else:\n",
        "    print(p,' is a prime Number')  \n",
        "\n",
        "else:\n",
        "  print('not a prime number')    \n",
        "\n",
        "\n"
      ],
      "execution_count": null,
      "outputs": [
        {
          "output_type": "stream",
          "text": [
            "Enter a number for prime check1\n",
            "not a prime number\n"
          ],
          "name": "stdout"
        }
      ]
    },
    {
      "cell_type": "code",
      "metadata": {
        "id": "KD0XOifHrKlp"
      },
      "source": [
        "#Write a Python Program to Print all Prime Numbers in an Interval of 1-10000?\n",
        "\n",
        "start = 1\n",
        "end = 10000\n",
        "\n",
        "print('prime numbers between',start,  'to', end, 'are:')\n",
        "\n",
        "for num in range (start,end+1):\n",
        "  if num >1:\n",
        "    for i in range (2,num):\n",
        "      if (num % i) == 0:\n",
        "        break\n",
        "    else:\n",
        "      print(num)      \n"
      ],
      "execution_count": null,
      "outputs": []
    },
    {
      "cell_type": "code",
      "metadata": {
        "id": "3Qx_8oTNrKuf"
      },
      "source": [
        ""
      ],
      "execution_count": null,
      "outputs": []
    },
    {
      "cell_type": "code",
      "metadata": {
        "id": "Hm97m0-J3M6p"
      },
      "source": [
        ""
      ],
      "execution_count": null,
      "outputs": []
    },
    {
      "cell_type": "code",
      "metadata": {
        "id": "atjmlFnnrK2T"
      },
      "source": [
        ""
      ],
      "execution_count": null,
      "outputs": []
    },
    {
      "cell_type": "code",
      "metadata": {
        "id": "oHw5bupxrK8l"
      },
      "source": [
        ""
      ],
      "execution_count": null,
      "outputs": []
    },
    {
      "cell_type": "code",
      "metadata": {
        "id": "JjqPEXnfrLAw"
      },
      "source": [
        ""
      ],
      "execution_count": null,
      "outputs": []
    },
    {
      "cell_type": "code",
      "metadata": {
        "id": "G2jNz6H-rLFB"
      },
      "source": [
        ""
      ],
      "execution_count": null,
      "outputs": []
    },
    {
      "cell_type": "code",
      "metadata": {
        "id": "G8vnc8kWrLIM"
      },
      "source": [
        ""
      ],
      "execution_count": null,
      "outputs": []
    }
  ]
}