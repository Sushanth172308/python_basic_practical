{
  "nbformat": 4,
  "nbformat_minor": 0,
  "metadata": {
    "colab": {
      "name": "Programming_Assingment5",
      "provenance": [],
      "collapsed_sections": [],
      "authorship_tag": "ABX9TyOPPVzyNaa+6+FXnd2LtBqn",
      "include_colab_link": true
    },
    "kernelspec": {
      "name": "python3",
      "display_name": "Python 3"
    },
    "language_info": {
      "name": "python"
    }
  },
  "cells": [
    {
      "cell_type": "markdown",
      "metadata": {
        "id": "view-in-github",
        "colab_type": "text"
      },
      "source": [
        "<a href=\"https://colab.research.google.com/github/Sushanth172308/python_basic_practical/blob/main/Programming_Assingment5.ipynb\" target=\"_parent\"><img src=\"https://colab.research.google.com/assets/colab-badge.svg\" alt=\"Open In Colab\"/></a>"
      ]
    },
    {
      "cell_type": "code",
      "metadata": {
        "id": "issms0zdf_US",
        "colab": {
          "base_uri": "https://localhost:8080/"
        },
        "outputId": "34ba2a26-6ed9-4a99-aff5-4ac00a246691"
      },
      "source": [
        "#Write a Python Program to Find LCM?\n",
        "# deifining a function for lowest common multiplier:\n",
        "def LCM(a, b):\n",
        "   if a > b:\n",
        "       c = a\n",
        "   else:\n",
        "       c = b\n",
        "\n",
        "   while(True):\n",
        "       if((c % a == 0) and (c % b == 0)):\n",
        "           LCM = c\n",
        "           break\n",
        "       c += 1\n",
        "\n",
        "   return LCM\n",
        "\n",
        "print(LCM(50,60))\n",
        "print(LCM(15,20))\n",
        "\n",
        "\n",
        "\n"
      ],
      "execution_count": null,
      "outputs": [
        {
          "output_type": "stream",
          "text": [
            "300\n",
            "60\n"
          ],
          "name": "stdout"
        }
      ]
    },
    {
      "cell_type": "code",
      "metadata": {
        "id": "4Fg5gPz-yAcC"
      },
      "source": [
        "#Write a Python Program to Find HCF?\n",
        "#  defining a function for Highest common factor\n",
        "def hcf(x,y):\n",
        "    if x > y:\n",
        "        z = y\n",
        "    else:\n",
        "        z = z\n",
        "        \n",
        "        \n",
        "    for i in range(1,z+1):\n",
        "        if((x % i ==0)and (y % i ==0)):\n",
        "            hcf == i\n",
        "            \n",
        "    return hcf\n",
        "    \n",
        "    \n",
        "print(hcf(12,4))    "
      ],
      "execution_count": null,
      "outputs": []
    },
    {
      "cell_type": "code",
      "metadata": {
        "colab": {
          "base_uri": "https://localhost:8080/"
        },
        "id": "pcoQQ6VN3X5Y",
        "outputId": "e6ee8e08-4671-4dd8-f646-32487db77f5a"
      },
      "source": [
        "#Write a Python Program to Convert Decimal to Binary, Octal and Hexadecimal?\n",
        "\n",
        "a = int(input('Enter a decimal number:'))\n",
        "\n",
        "print('The binary value of given deciaml is:',bin(a) )\n",
        "print('The Octal value of given deciaml is:',oct(a) )\n",
        "print('The Hexadecimal value of given deciaml is:',hex(a) )"
      ],
      "execution_count": null,
      "outputs": [
        {
          "output_type": "stream",
          "text": [
            "Enter a decimal number:344\n",
            "The binary value of given deciaml is: 0b101011000\n",
            "The Octal value of given deciaml is: 0o530\n",
            "The Hexadecimal value of given deciaml is: 0x158\n"
          ],
          "name": "stdout"
        }
      ]
    },
    {
      "cell_type": "code",
      "metadata": {
        "colab": {
          "base_uri": "https://localhost:8080/"
        },
        "id": "jfNpdRNE6nug",
        "outputId": "f5a12047-3d6f-4036-d8bd-f51ab61e4174"
      },
      "source": [
        "#Write a Python Program To Find ASCII value of a character?\n",
        "# Asking the user to enter the charactor\n",
        "c = input('Enter a charactor:')\n",
        "# the AsCII value of given charactor is \n",
        "print(\"The ASCII value of '\" + c + \"' is\", ord(c))\n"
      ],
      "execution_count": null,
      "outputs": [
        {
          "output_type": "stream",
          "text": [
            "Enter a charactor:4\n",
            "The ASCII value of '4' is 52\n"
          ],
          "name": "stdout"
        }
      ]
    },
    {
      "cell_type": "code",
      "metadata": {
        "colab": {
          "base_uri": "https://localhost:8080/"
        },
        "id": "U4rvVfS46juC",
        "outputId": "b843bff2-d3ba-4d4a-9de9-bddfbb48dfee"
      },
      "source": [
        "#write a Python Program to Make a Simple Calculator with 4 basic mathematical operations?\n",
        "#Function for add two numbers\n",
        "def add(a,b):\n",
        "  return  a + b \n",
        "\n",
        "# Function for Subtract\n",
        "def subtract(a,b):\n",
        "  return a - b\n",
        "\n",
        "# Fuction for Multiplication\n",
        "def multiply(a,b):\n",
        "  return a * b \n",
        "\n",
        "# Function for division\n",
        "def division(a,b):\n",
        "  return a /b \n",
        "\n",
        "  print(\"Please select operation -\\n\" \n",
        "\t\t\"A. Add\\n\"  \n",
        "\t\t\"B. Subtract\\n\"  \n",
        "\t\t\"C. Multiply\\n\" \n",
        "\t\t\"D. Divide\\n\")  \n",
        "\n",
        "\n",
        "\n",
        "\n",
        "# Take input from the user\n",
        "operation = input('choose one of the operation A B C D ')\n",
        "\n",
        "num1 = int(input('Enter the first number:'))\n",
        "\n",
        "num2 = int(input('Enter the second number:'))\n",
        "\n",
        "\n",
        "if operation == 'A':\n",
        "  print(num1, '+' , num2, '=', add(num1,num2))\n",
        "  \n",
        "elif operation == 'B':\n",
        "  print(num1, '-' , num2, '=', subtract(num1,num2))\n",
        "\n",
        "\n",
        "elif operation == 'C':\n",
        "  print(num1, '*' ,num2, '=', multiply(num1,num2)) \n",
        "\n",
        "\n",
        "elif operation == 'D':\n",
        "  print(num1, '/' ,num2, '=', division(num1,num2))\n",
        "\n",
        "else:\n",
        "  print('Invalid input')\n"
      ],
      "execution_count": null,
      "outputs": [
        {
          "output_type": "stream",
          "text": [
            "choose one of the operation A B C D A\n",
            "Enter the first number:2\n",
            "Enter the second number:3\n",
            "2 + 3 = 5\n"
          ],
          "name": "stdout"
        }
      ]
    },
    {
      "cell_type": "code",
      "metadata": {
        "id": "eT9PqP9A72-M"
      },
      "source": [
        ""
      ],
      "execution_count": null,
      "outputs": []
    }
  ]
}