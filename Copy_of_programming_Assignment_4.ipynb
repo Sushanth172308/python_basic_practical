{
  "nbformat": 4,
  "nbformat_minor": 0,
  "metadata": {
    "colab": {
      "name": "Copy of programming Assignment_4",
      "provenance": [],
      "collapsed_sections": [],
      "authorship_tag": "ABX9TyMQxLOiQRbCQn8rLTCoU2N5",
      "include_colab_link": true
    },
    "kernelspec": {
      "display_name": "Python 3",
      "name": "python3"
    },
    "language_info": {
      "name": "python"
    }
  },
  "cells": [
    {
      "cell_type": "markdown",
      "metadata": {
        "id": "view-in-github",
        "colab_type": "text"
      },
      "source": [
        "<a href=\"https://colab.research.google.com/github/Sushanth172308/python_basic_practical/blob/main/Copy_of_programming_Assignment_4.ipynb\" target=\"_parent\"><img src=\"https://colab.research.google.com/assets/colab-badge.svg\" alt=\"Open In Colab\"/></a>"
      ]
    },
    {
      "cell_type": "code",
      "metadata": {
        "id": "CWD45EA0vpeA"
      },
      "source": [
        "Write a Python Program to Find the Factorial of a Number?\n",
        "\n",
        "# take the input from the user\n",
        "\n",
        "n = int(input('Entner a number:'))\n",
        "\n",
        "f = 1\n",
        "for i in range(1,n+1):\n",
        "  #  to calculate Factorial \n",
        "  f = f * i\n",
        "print('The factrial of {} is:',f)  \n",
        "\n",
        "\n",
        " \n"
      ],
      "execution_count": null,
      "outputs": []
    },
    {
      "cell_type": "code",
      "metadata": {
        "id": "w54aQOlH8wnR"
      },
      "source": [
        "Write a Python Program to Display the multiplication Table?\n",
        "\n",
        "# Take the intput from the user\n",
        "\n",
        "n = int(input('Enter the table number:'))\n",
        "for  i in range (1,11):\n",
        "\n",
        "  # Multiplication algorithm\n",
        "\n",
        "  print(n , 'X', i , '=', n * i)\n",
        "\n",
        "\n",
        "\n"
      ],
      "execution_count": null,
      "outputs": []
    },
    {
      "cell_type": "code",
      "metadata": {
        "id": "YH3XAfHIB6ku"
      },
      "source": [
        "Write a Python Program to Print the Fibonacci sequence?\n",
        "\n",
        "# Asking the user to input the value\n",
        "n = int(input('Enter the value:'))\n",
        "\n",
        "# initializing the values\n",
        "a = 1\n",
        "b = 1\n",
        "# assiging the values.\n",
        "for i in range(n+1):\n",
        "  print(a)\n",
        "  a,b = b,a+b\n",
        "  "
      ],
      "execution_count": null,
      "outputs": []
    },
    {
      "cell_type": "code",
      "metadata": {
        "colab": {
          "base_uri": "https://localhost:8080/"
        },
        "id": "43CV3-sWQw5G",
        "outputId": "73e4c41d-e6d1-46fc-c099-8a5270a2480a"
      },
      "source": [
        "#Write a Python Program to Check Armstrong Number?\n",
        "\n",
        "# Asking the user to input the number\n",
        "n = int(input('Enter the number:'))\n",
        "\n",
        "l = len(str(n))\n",
        "\n",
        "# initializing the sum\n",
        "sum = 0\n",
        "\n",
        "# To find sum of power of the n digits\n",
        "temp = n\n",
        "while temp > 0:\n",
        "  digit = temp % 10\n",
        "  sum += digit**l\n",
        "  temp //= 10\n",
        "\n",
        "\n",
        "# Result\n",
        "\n",
        "if n == sum:\n",
        "  print(n,'is an Armstrong number')\n",
        "else:\n",
        "  print(n,'is not an Armstrong number')\n",
        "\n",
        "\n"
      ],
      "execution_count": null,
      "outputs": [
        {
          "output_type": "stream",
          "text": [
            "Enter the number:4\n",
            "4 is an Armstrong number\n"
          ],
          "name": "stdout"
        }
      ]
    },
    {
      "cell_type": "code",
      "metadata": {
        "id": "0XLXJl3bbrcA"
      },
      "source": [
        "Write a Python Program to Find Armstrong Number in an Interval?\n",
        "lower = 100\n",
        "upper = 2000\n",
        "\n",
        "for n in range(lower, upper + 1):\n",
        "\n",
        "    # order of number\n",
        "    l = len(str(n))\n",
        "\n",
        "    # initialize sum\n",
        "    sum = 0\n",
        "\n",
        "    temp = n\n",
        "    while temp > 0:\n",
        "        digit = temp % 10\n",
        "        sum += digit ** l\n",
        "        temp //= 10\n",
        "\n",
        "    if n == sum:\n",
        "        print(n)"
      ],
      "execution_count": null,
      "outputs": []
    },
    {
      "cell_type": "code",
      "metadata": {
        "id": "JmhlUvK7FpX1"
      },
      "source": [
        "Write a Python Program to Find the Sum of Natural Numbers?\n",
        "\n",
        "# asking user to input the number\n",
        "\n",
        "n  = int(input('Enter the number:'))\n",
        "if n < 0:\n",
        "  print('Enter a positive number')\n",
        "else:\n",
        "  sum = 0 \n",
        "  while n > 0:\n",
        "    sum += n\n",
        "    n-=1\n",
        "  print('Total sum is :',sum)  \n",
        "\n",
        "\n",
        "\n"
      ],
      "execution_count": null,
      "outputs": []
    }
  ]
}