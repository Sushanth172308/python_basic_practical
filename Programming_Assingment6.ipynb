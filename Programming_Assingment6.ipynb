{
  "nbformat": 4,
  "nbformat_minor": 0,
  "metadata": {
    "colab": {
      "name": "Programming_Assingment6.ipynb",
      "provenance": [],
      "collapsed_sections": [],
      "authorship_tag": "ABX9TyOwcdBFtDOKjcjZEBXPHk91",
      "include_colab_link": true
    },
    "kernelspec": {
      "name": "python3",
      "display_name": "Python 3"
    },
    "language_info": {
      "name": "python"
    }
  },
  "cells": [
    {
      "cell_type": "markdown",
      "metadata": {
        "id": "view-in-github",
        "colab_type": "text"
      },
      "source": [
        "<a href=\"https://colab.research.google.com/github/Sushanth172308/python_basic_practical/blob/main/Programming_Assingment6.ipynb\" target=\"_parent\"><img src=\"https://colab.research.google.com/assets/colab-badge.svg\" alt=\"Open In Colab\"/></a>"
      ]
    },
    {
      "cell_type": "markdown",
      "metadata": {
        "id": "Ic5mUohG5s3E"
      },
      "source": [
        "1.Write a Python Program to Display Fibonacci Sequence Using Recursion?"
      ]
    },
    {
      "cell_type": "code",
      "metadata": {
        "id": "xZjUazS25zg5",
        "colab": {
          "base_uri": "https://localhost:8080/"
        },
        "outputId": "ba21f2f2-f825-461f-b1b2-47d9a51f5402"
      },
      "source": [
        "def fib_recur(n):\n",
        "  if n <=1:\n",
        "    return n\n",
        "  else:\n",
        "    return(fib_recur(n-1)+fib_recur(n-2))\n",
        "\n",
        "    #take imput from the user: \n",
        "n = int(input(\"How many terms? \"))  \n",
        "# check if the number of terms is valid  \n",
        "if n <= 0:  \n",
        "   print(\"Plese enter a positive integer\")  \n",
        "else:  \n",
        "   print(\"Fibonacci sequence:\")  \n",
        "   for i in range(n):  \n",
        "       print(fib_recur(i))    "
      ],
      "execution_count": null,
      "outputs": [
        {
          "output_type": "stream",
          "text": [
            "How many terms? 5\n",
            "Fibonacci sequence:\n",
            "0\n",
            "1\n",
            "1\n",
            "2\n",
            "3\n"
          ],
          "name": "stdout"
        }
      ]
    },
    {
      "cell_type": "markdown",
      "metadata": {
        "id": "0kzVsDIY7LMF"
      },
      "source": [
        "2.Write a Python Program to Find Factorial of Number Using Recursion?"
      ]
    },
    {
      "cell_type": "code",
      "metadata": {
        "colab": {
          "base_uri": "https://localhost:8080/"
        },
        "id": "d-9qemPt7OKE",
        "outputId": "bf3343e8-9a8d-43a0-d5b3-ff1c9a290f70"
      },
      "source": [
        "def fact_rec(n):\n",
        "  if n ==1:\n",
        "    return n\n",
        "  else:\n",
        "     return n*fact_rec(n-1) \n",
        "\n",
        "num =int(input('please enter a nubmer'))\n",
        "# check if the number is negetive\n",
        "\n",
        "if num <0:\n",
        "  print('sorry,there are no factorial for negative numbers')\n",
        "elif num ==0:\n",
        "  print('the factorial of 0 is 1')\n",
        "else:\n",
        "  print('the factorial of',num , 'is',fact_rec(num))    \n",
        "\n",
        "    \n",
        "\n"
      ],
      "execution_count": null,
      "outputs": [
        {
          "output_type": "stream",
          "text": [
            "please enter a nubmer8\n",
            "the factorial of 8 is 40320\n"
          ],
          "name": "stdout"
        }
      ]
    },
    {
      "cell_type": "markdown",
      "metadata": {
        "id": "-5NZaVZXDV18"
      },
      "source": [
        "3.Write a Python Program to calculate your Body Mass Index?"
      ]
    },
    {
      "cell_type": "code",
      "metadata": {
        "colab": {
          "base_uri": "https://localhost:8080/"
        },
        "id": "bsPw3LvdDa1E",
        "outputId": "934c1c76-4afe-4174-a0a9-ae0e3922d323"
      },
      "source": [
        "height = float(input(\"Enter your height in Feet: \"))\n",
        "weight = float(input(\"Enter your weight in Kilogram: \"))\n",
        "print(\"Your body mass index is: \", round(weight / (height * height), 2))"
      ],
      "execution_count": null,
      "outputs": [
        {
          "output_type": "stream",
          "text": [
            "Enter your height in Feet: 5\n",
            "Enter your weight in Kilogram: 60\n",
            "Your body mass index is:  2.4\n"
          ],
          "name": "stdout"
        }
      ]
    },
    {
      "cell_type": "markdown",
      "metadata": {
        "id": "EoANcsy6GedJ"
      },
      "source": [
        "\n",
        "4.Write a Python Program to calculate the natural logarithm of any number?"
      ]
    },
    {
      "cell_type": "code",
      "metadata": {
        "id": "mS_WGzQtHpWa",
        "colab": {
          "base_uri": "https://localhost:8080/"
        },
        "outputId": "4c3962be-4e79-4b46-83f2-b1a387bbfa12"
      },
      "source": [
        "# Import math Library\n",
        "import math\n",
        "\n",
        "# Return the natural logarithm of varier numbers\n",
        "print('Log value is:',math.log(1.7183))\n",
        "print('Log value is:',math.log(5))\n",
        "print('Log value is:',math.log(14))\n"
      ],
      "execution_count": null,
      "outputs": [
        {
          "output_type": "stream",
          "text": [
            "Log value is: 0.5413354299705624\n",
            "Log value is: 1.6094379124341003\n",
            "Log value is: 2.6390573296152584\n"
          ],
          "name": "stdout"
        }
      ]
    },
    {
      "cell_type": "markdown",
      "metadata": {
        "id": "z7juYFsGi4vq"
      },
      "source": [
        "5.Write a Python Program for cube sum of first n natural numbers?\n",
        "\n",
        "\n"
      ]
    },
    {
      "cell_type": "code",
      "metadata": {
        "colab": {
          "base_uri": "https://localhost:8080/"
        },
        "id": "m2M4cVkqnzS7",
        "outputId": "d41a5819-568f-4582-f2aa-1e4b6de259b9"
      },
      "source": [
        "\n",
        "def cubesum(n):\n",
        "  x = (n*(n+1)/2)\n",
        "  return (int)(x*x)\n",
        "\n",
        "\n",
        "\n",
        "n = 3\n",
        "print(cubesum(n))"
      ],
      "execution_count": null,
      "outputs": [
        {
          "output_type": "stream",
          "text": [
            "36\n"
          ],
          "name": "stdout"
        }
      ]
    }
  ]
}